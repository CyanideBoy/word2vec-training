{
  "nbformat": 4,
  "nbformat_minor": 0,
  "metadata": {
    "colab": {
      "name": "word2vec_train.ipynb",
      "provenance": [],
      "authorship_tag": "ABX9TyNc0EKyDQBt97pCZ5Snwlhb",
      "include_colab_link": true
    },
    "kernelspec": {
      "name": "python3",
      "display_name": "Python 3"
    },
    "accelerator": "GPU"
  },
  "cells": [
    {
      "cell_type": "markdown",
      "metadata": {
        "id": "view-in-github",
        "colab_type": "text"
      },
      "source": [
        "<a href=\"https://colab.research.google.com/github/CyanideBoy/word2vec-training/blob/master/word2vec_train.ipynb\" target=\"_parent\"><img src=\"https://colab.research.google.com/assets/colab-badge.svg\" alt=\"Open In Colab\"/></a>"
      ]
    },
    {
      "cell_type": "code",
      "metadata": {
        "id": "w_op_M7up7XQ",
        "colab_type": "code",
        "colab": {
          "base_uri": "https://localhost:8080/",
          "height": 53
        },
        "outputId": "a541b212-401f-4c8a-c08f-2602a63c609e"
      },
      "source": [
        "%tensorflow_version 1.x\n",
        "import numpy as np\n",
        "np.random.seed(13)\n",
        "\n",
        "import keras.backend as K\n",
        "from keras.models import Sequential\n",
        "from keras.layers import Dense, Embedding, Lambda\n",
        "from keras.utils.data_utils import get_file\n",
        "from keras.utils import np_utils\n",
        "from keras.preprocessing import sequence\n",
        "from keras.preprocessing.text import Tokenizer\n",
        "\n",
        "import gensim"
      ],
      "execution_count": 1,
      "outputs": [
        {
          "output_type": "stream",
          "text": [
            "TensorFlow 1.x selected.\n"
          ],
          "name": "stdout"
        },
        {
          "output_type": "stream",
          "text": [
            "Using TensorFlow backend.\n"
          ],
          "name": "stderr"
        }
      ]
    },
    {
      "cell_type": "code",
      "metadata": {
        "id": "yroclA3kqDDy",
        "colab_type": "code",
        "colab": {}
      },
      "source": [
        "path = get_file('alice.txt', origin='http://www.gutenberg.org/files/11/11-0.txt')\n",
        "corpus = open(path).readlines()[:300]\n",
        "corpus = [sentence for sentence in corpus if sentence.count(' ') >= 2]\n",
        "\n",
        "tokenizer = Tokenizer()\n",
        "tokenizer.fit_on_texts(corpus)\n",
        "corpus = tokenizer.texts_to_sequences(corpus)\n",
        "\n",
        "nb_samples = sum(len(s) for s in corpus)\n",
        "V = len(tokenizer.word_index) + 1\n",
        "dim = 100\n",
        "window_size = 2"
      ],
      "execution_count": 0,
      "outputs": []
    },
    {
      "cell_type": "code",
      "metadata": {
        "id": "oks3mA1gqQWh",
        "colab_type": "code",
        "colab": {
          "base_uri": "https://localhost:8080/",
          "height": 108
        },
        "outputId": "1102d44d-ea64-4dd9-efb5-e8c0aba32ccc"
      },
      "source": [
        "print(corpus)\n",
        "print(len(corpus))  #Nb sent\n",
        "print(nb_samples)   #Nb Words\n",
        "print(V)            #Nb distinct words"
      ],
      "execution_count": 3,
      "outputs": [
        {
          "output_type": "stream",
          "text": [
            "[[1, 141, 105, 85, 8, 55, 106, 10, 107, 43, 142, 143], [24, 85, 61, 16, 1, 62, 8, 321, 322, 26, 36, 323, 4, 30], [144, 36, 324, 325, 17, 326, 327, 5, 187, 5, 188, 31], [328, 62, 5, 108, 1, 329, 8, 1, 141, 105, 330, 331], [30, 24, 85, 31, 332, 26, 333, 105, 334], [335, 55, 106, 10, 107], [336, 142, 143], [337, 338, 339, 340, 341, 85, 342], [343, 344, 345, 346, 347], [348, 189, 349, 350, 351], [352, 8, 24, 141, 105, 85, 55, 106, 10, 107], [353, 43, 354, 355, 4, 356, 357], [55, 106, 10, 107], [43, 142, 143], [1, 358, 359, 360, 361, 362], [37, 11, 15, 1, 40, 86], [37, 363, 1, 190, 8, 145], [37, 364, 6, 365, 366, 4, 6, 109, 367], [37, 368, 1, 40, 369, 10, 6, 21, 370], [37, 371, 191, 110, 6, 372], [37, 373, 374, 4, 375], [37, 376, 6, 377, 192, 378], [37, 379, 1, 380, 193, 381], [37, 382, 1, 383, 384, 385], [37, 386, 1, 387, 388], [37, 389, 146, 390, 1, 391], [37, 392, 55, 393], [15, 1, 40, 86], [12, 7, 394, 3, 63, 18, 194, 8, 395, 43, 13, 195, 22, 1], [396, 4, 8, 147, 64, 3, 65, 87, 31, 397, 2, 19, 398, 49], [1, 111, 13, 195, 7, 399, 20, 5, 19, 36, 148, 31], [196, 10, 5, 73, 44, 61, 1, 62, 8, 6, 111, 9, 45, 12], [400, 148, 31, 196, 9], [25, 2, 7, 197, 10, 13, 149, 198, 32, 112, 32, 2, 56, 16, 1], [150, 401, 199, 13, 200, 18, 201, 4, 202, 203, 1, 402, 8], [403, 6, 404, 405, 57, 23, 406, 1, 204, 8, 113, 34, 4], [407, 1, 408, 41, 88, 6, 205, 40, 30, 409, 206, 207], [208, 43, 13], [46, 7, 64, 25, 18, 410, 10, 14, 411, 151, 12, 50, 5], [25, 18, 66, 27, 8, 1, 28, 3, 209, 1, 40, 74, 3, 412, 152], [114, 153, 114, 11, 75, 23, 210, 9, 41, 2, 45, 5, 154, 413], [5, 414, 3, 13, 14, 2, 415, 3, 211, 416, 26, 24, 20, 26, 1], [51, 5, 47, 115, 89, 417, 20, 41, 1, 40, 418, 155, 6], [212, 27, 8, 419, 213, 214, 4, 90, 26, 5, 4, 76, 420], [22, 12, 421, 3, 13, 67, 16, 5, 422, 215, 13, 198, 14, 2], [19, 91, 92, 156, 6, 40, 30, 77, 6, 213, 214, 31, 6], [212, 3, 423, 27, 8, 5, 4, 424, 30, 425, 2, 207, 215, 1], [426, 116, 5, 4, 427, 7, 117, 10, 51, 3, 42, 5, 428, 15, 6], [157, 40, 86, 108, 1, 429], [10, 158, 93, 15, 58, 12, 116, 5, 91, 87, 197, 35], [10, 1, 430, 2, 7, 3, 63, 27, 118], [1, 40, 86, 58, 431, 22, 38, 6, 432, 16, 433, 28, 4, 76], [434, 88, 15, 25, 88, 14, 12, 19, 29, 6, 93, 3, 50], [52, 435, 33, 92, 2, 68, 33, 216, 15, 6, 18], [77, 1, 112, 7, 18, 436, 31, 2, 119, 18, 437, 16, 2, 19], [438, 8, 51, 32, 2, 58, 15, 3, 120, 52, 13, 4, 3, 69, 44], [7, 78, 3, 217, 439, 121, 2, 94, 3, 120, 15, 4, 218, 27], [44, 2, 7, 440, 3, 20, 5, 7, 79, 159, 3, 42, 219, 76, 2], [90, 26, 1, 441, 8, 1, 112, 4, 220, 14, 70, 53, 442, 30], [221, 4, 111, 222, 122, 4, 46, 2, 223, 443, 4, 148], [444, 123, 445, 2, 155, 15, 6, 224, 110, 54, 8, 1, 222, 32, 2], [446, 5, 7, 447, 448, 449, 20, 3, 13, 160], [450, 5, 7, 451, 2, 151, 29, 38, 3, 452, 1, 224, 16, 453], [8, 454, 455, 456, 25, 457, 3, 161, 5, 49, 54, 8, 1], [221, 32, 2, 119, 458, 5], [225, 9, 45, 12, 3, 33, 459, 162, 6, 124, 32, 24, 11, 75], [50, 64, 8, 460, 15, 461, 35, 462, 226, 47, 50, 39], [26, 463, 227, 11, 464, 74, 219, 52, 5, 163, 48, 11, 119, 59, 1], [228, 8, 1, 465, 9, 71, 7, 18, 466, 467], [15, 15, 15, 57, 1, 124, 91, 229, 3, 230, 231, 80, 69, 35], [232, 233, 234, 468, 43, 24, 51, 9, 2, 60, 469, 80, 95, 23], [113, 235, 236, 1, 470, 8, 1, 237, 238, 39, 42, 14, 57], [23, 471, 472, 233, 15, 11, 239, 16, 17, 42, 12, 19, 473], [240, 96, 8, 24, 164, 10, 13, 474, 10, 1, 475, 4], [241, 24, 7, 29, 6, 18, 97, 476, 16, 477, 59, 13], [478, 32, 46, 7, 36, 54, 3, 479, 3, 13, 242, 5, 7, 97], [480, 3, 74, 5, 154, 481, 243, 52, 1, 98, 482], [76, 11, 69, 44, 244, 31, 245, 234, 125, 3, 9, 12, 19, 36], [483, 44, 244, 7, 31, 245, 77, 20, 45, 70, 53, 165], [484, 166, 3, 74], [485, 2, 167, 118, 80, 69, 48, 11, 75, 124, 98, 81], [1, 237, 35, 246, 168, 247, 3, 229, 27, 248, 1, 126, 14, 249], [30, 250, 486, 487, 1, 488, 11, 239, 2, 7, 169], [489, 46, 7, 36, 54, 490, 24, 51, 32, 5, 251, 491, 26, 47], [1, 98, 492, 493, 11, 75, 211, 3, 252, 99, 44, 1, 494, 8, 1], [495, 61, 17, 170, 496, 497, 61, 24, 253, 498, 31, 499, 9], [4, 2, 94, 3, 500, 32, 2, 501, 502, 32, 503], [216, 81, 1, 254, 65, 17, 50, 17, 56, 171, 5, 73, 44], [230, 504, 21, 505, 506, 50, 39, 16, 507, 36, 168, 91, 65], [3, 252, 255, 11, 75, 42, 5, 508, 34, 235, 9], [15, 15, 15, 46, 7, 64, 509, 3, 65, 25, 12, 127, 167], [256, 118, 510, 511, 39, 18, 66, 3, 512, 11, 257, 50, 9], [128, 7, 1, 513, 80, 514, 226, 172, 13, 515, 8, 516, 26], [192, 51, 128, 82, 114, 11, 258, 17, 53, 15, 122, 30, 39, 46, 517], [36, 518, 10, 1, 254, 129, 519, 20, 17, 130, 520, 6, 259, 4, 243], [18, 38, 6, 521, 17, 170, 20, 65, 131, 83, 132, 11, 69, 9, 4, 122], [12, 167, 3, 63, 169, 201, 4, 58, 22, 260, 3, 33, 10, 6], [522, 164, 8, 28, 261, 131, 83, 132, 65, 131, 83, 132, 9, 4], [262, 261, 132, 83, 131, 9, 16, 17, 42, 32, 2, 523, 524], [77, 525, 5, 251, 66, 526, 71, 28, 2, 161, 5, 2, 263], [14, 2, 7, 527, 59, 4, 19, 117, 264, 3, 528, 14, 2, 7], [529, 173, 10, 173, 30, 128, 4, 260, 3, 13, 18, 530], [265, 128, 531, 39, 1, 532, 151, 17, 100, 83, 6, 259, 9, 41, 88], [266, 266, 15, 2, 174, 123, 6, 533, 8, 534, 4, 535, 536, 4], [1, 124, 7, 154], [12, 7, 29, 6, 267, 537, 4, 2, 538, 34, 22, 3, 13, 67, 10, 6, 93], [2, 90, 34, 20, 5, 7, 47, 159, 539, 92, 13, 7, 158], [109, 175, 4, 1, 205, 40, 7, 242, 10, 268, 540, 15], [5, 46, 7, 29, 6, 93, 3, 23, 541, 188, 58, 12, 38, 1, 542], [4, 7, 117, 10, 51, 3, 209, 5, 74, 32, 5, 269, 6, 270, 152, 82, 271], [4, 543, 35, 210, 176, 113, 9, 2, 7, 208, 272, 5, 41, 2], [269, 1, 270, 20, 1, 40, 7, 36, 544, 3, 23, 156, 2, 68], [33, 10, 6, 109, 273, 101, 71, 7, 545, 34, 43, 6, 546, 8, 547, 548], [110, 1, 274], [46, 53, 275, 47, 177, 1, 101, 20, 70, 53, 47, 549, 4, 41], [12, 19, 550, 47, 1, 28, 15, 54, 551, 4, 34, 1, 276, 178, 277], [72, 2, 552, 553, 15, 1, 554, 555, 35, 2, 7, 100, 3], [63, 27, 118], [88, 2, 174, 123, 6, 21, 556, 557, 102, 47, 199, 8, 558], [179, 46, 7, 64, 22, 5, 559, 6, 560, 133, 84, 4, 55], [121, 45, 7, 14, 5, 130, 561, 3, 54, 8, 1, 275, 8, 1, 101], [20, 278, 77, 1, 562, 53, 79, 157, 31, 1, 84, 7, 79, 180], [20, 26, 134, 279, 5, 57, 29, 563, 134, 8, 99, 181, 22, 1, 564], [51, 177, 2, 174, 123, 6, 273, 565, 2, 19, 29, 220, 92, 4], [272, 5, 7, 6, 21, 72, 52, 566, 280, 182, 2, 94, 1], [21, 133, 84, 10, 1, 567, 4, 3, 13, 160, 568, 5, 569], [12, 281, 1, 72, 4, 68, 14, 5, 570, 49, 6, 180, 175, 29], [66, 282, 283, 6, 571, 86, 2, 572, 15, 4, 90, 573, 1], [175, 49, 1, 574, 135, 17, 100, 223, 35, 2, 575, 3, 63], [27, 8, 14, 159, 101, 4, 576, 52, 248, 284, 577, 8, 578], [579, 4, 284, 580, 581, 20, 2, 56, 29, 163, 63, 13, 136], [81, 1, 582, 73, 163, 48, 82, 136, 57, 137, 81, 9, 45], [103, 12, 583, 57, 23, 8, 18, 21, 62, 584, 82, 585, 153], [35, 11, 258, 11, 56, 586, 34, 38, 6, 285, 11, 50, 11, 56, 48, 11, 286], [587, 35, 3, 588, 9, 16, 17, 42, 25, 232, 27, 8, 1, 28, 96, 19], [287, 589, 14, 12, 19, 264, 3, 50, 14, 18, 288, 96], [289, 53, 590, 591], [46, 115, 3, 23, 36, 62, 10, 592, 43, 1, 21, 72, 25, 2, 58], [290, 3, 1, 102, 593, 594, 2, 130, 291, 158, 84, 22, 5, 31, 26], [134, 279, 6, 111, 8, 292, 16, 293, 126, 34, 38, 595, 24], [51, 2, 68, 6, 21, 138, 22, 5, 294, 596, 7, 29, 122], [92, 9, 60, 12, 4, 177, 1, 597, 8, 1, 138, 7, 6, 598], [599, 30, 1, 166, 295, 39, 9, 296, 600, 22, 5, 10, 157], [5, 7, 47, 18, 112, 3, 74, 295, 39, 9, 20, 1, 601, 21, 12, 7], [29, 78, 3, 65, 14, 10, 6, 602, 603, 139, 120, 121, 9, 2, 60], [73, 42, 203, 176, 140, 604, 605, 606, 31, 607, 16, 2, 19, 608], [240, 165, 21, 609, 52, 610, 146, 19, 125, 611, 4], [612, 34, 43, 613, 614, 4, 276, 615, 96, 47, 616, 70], [57, 29, 172, 1, 617, 292, 250, 618, 19, 619, 99], [162, 32, 14, 6, 620, 150, 621, 183, 622, 17, 48, 17, 623, 5, 79, 109], [4, 14, 48, 17, 624, 297, 625, 18, 626, 30, 6, 627, 5, 628], [629, 4, 2, 19, 91, 298, 14, 48, 17, 630, 66, 110, 6], [138, 140, 299, 9, 5, 61, 144, 631, 3, 632, 30, 17], [633, 31, 634], [181, 24, 138, 7, 29, 140, 299, 9, 25, 12, 635, 3], [636, 5, 4, 300, 5, 18, 165, 5, 19, 10, 301, 6, 164, 8, 637], [638, 8, 639, 640, 641, 642, 643, 644, 645, 646, 4], [150, 647, 648, 2, 18, 127, 302, 5, 59], [], [], [], [649, 6, 303, 650, 9, 60, 12, 80, 95, 23, 293, 34, 38, 6], [4, 25, 5, 7, 289, 2, 7, 104, 286, 651, 280, 182, 4, 13, 652], [653, 34, 26, 1, 45, 14, 2, 7, 104, 1, 98, 304, 16, 78], [81, 1, 21, 72, 49, 14, 654, 135, 121, 181, 2], [655, 16, 6, 288, 656, 3, 42, 48, 2, 7, 78, 3, 657, 134, 658], [2, 263, 6, 21, 659, 52, 24, 660, 5, 130, 231, 17, 170, 9], [60, 12, 3, 33, 661, 82, 78, 27, 662, 38, 6, 184, 11], [69, 44, 11, 257, 23, 38, 76, 9, 4, 2, 94, 3, 663, 44, 1], [664, 8, 6, 184, 61, 38, 116, 1, 184, 61, 665, 27, 16, 2, 56], [29, 172, 100, 147, 156, 162, 6, 305], [116, 6, 666, 300, 14, 64, 306, 287, 2, 667, 22, 78], [49, 1, 135, 26, 87, 20, 278, 16, 103, 12, 41, 2, 125, 3, 1], [72, 2, 68, 2, 19, 298, 1, 21, 133, 84, 4, 41, 2], [58, 290, 3, 1, 102, 16, 5, 2, 68, 2, 56, 29, 668, 307], [5, 2, 56, 42, 5, 89, 669, 81, 1, 179, 4, 2, 94, 13], [308, 3, 670, 34, 54, 8, 1, 671, 8, 1, 102, 20, 5, 7, 79, 672], [4, 41, 2, 19, 194, 33, 27, 30, 178, 1, 103, 21, 305], [673, 15, 4, 309], [674, 310, 36, 62, 10, 675, 38, 14, 9, 60, 12, 3, 33], [169, 676, 80, 677, 17, 3, 678, 59, 24, 679, 9, 2, 311], [680, 33, 18, 97, 191, 241, 2, 18, 681, 682, 5], [4, 262, 2, 683, 33, 25, 684, 32, 3, 685, 145, 49], [13, 206, 4, 87, 2, 686, 178, 3, 312, 13, 149, 271, 16, 147], [687, 33, 10, 6, 688, 8, 193, 2, 7, 689, 313, 33], [16, 24, 303, 690, 7, 18, 691, 8, 692, 3, 23, 314, 126], [693, 176, 36, 62, 104, 9, 45, 103, 12, 694, 695, 3, 23, 314], [126, 227, 310, 696, 697, 8, 39, 698, 3, 218, 54, 699], [127, 13, 700, 119, 22, 6, 21, 179, 312, 14, 7, 701, 108, 1, 102], [2, 281, 5, 4, 68, 10, 5, 6, 18, 180, 185, 22, 71, 1, 166], [702, 703, 53, 296, 140, 10, 704, 225, 139, 83, 5, 9, 60], [12, 73, 48, 5, 315, 39, 316, 282, 11, 186, 307, 1, 84, 4, 48, 5], [315, 39, 316, 705, 11, 186, 706, 108, 1, 72, 25, 77, 28, 139], [63, 49, 1, 135, 4, 11, 707, 708, 71, 317, 9], [2, 709, 6, 21, 267, 4, 60, 710, 3, 33, 294, 28, 71], [28, 9, 711, 13, 173, 22, 1, 228, 8, 13, 136, 3, 200, 71, 28, 5, 7], [712, 4, 2, 7, 89, 318, 3, 291, 14, 2, 713, 1, 714], [304, 3, 23, 319, 24, 311, 317, 41, 54, 715, 185, 20, 12], [19, 125, 25, 66, 49, 1, 28, 8, 716, 64, 20, 27, 8, 1, 28], [96, 3, 217, 14, 5, 115, 89, 717, 4, 202, 16, 718, 3, 137], [22, 10, 1, 719, 28], [25, 2, 189, 3, 720, 4, 18, 127, 302, 59, 1, 185], [], [], [], [1, 190, 8, 145], [721, 4, 722, 9, 309, 12, 2, 7, 25, 66, 318, 14], [16, 1, 93, 2, 89, 723, 35, 3, 724, 97, 725, 265, 129], [726, 27, 38, 1, 727, 285, 14, 100, 7, 97, 728, 67, 9], [16, 41, 2, 90, 15, 26, 13, 67, 70, 115, 3, 23, 144, 27, 8], [268, 70, 53, 113, 25, 320, 59, 152, 82, 103, 21, 67, 11], [69, 146, 183, 161, 22, 297, 729, 4, 730, 16, 17, 104, 731, 129], [319, 11, 732, 23, 733, 11, 75, 23, 6, 160, 734, 79, 320, 59, 3, 204], [735, 52, 17, 17, 95, 171, 1, 308, 28, 17, 186, 736, 11, 95, 23], [737, 3, 99, 9, 45, 12, 738, 255, 70, 739, 249, 1, 28, 11], [740, 3, 137, 238, 39, 42, 139, 187, 99, 6, 253, 741, 8, 742, 277], [4, 2, 58, 22, 743, 3, 33, 35, 2, 57, 171, 5, 744, 95], [137, 43, 1, 745, 9, 2, 45, 73, 35, 246, 168, 247, 746], [747, 3, 748, 149, 67, 4, 35, 749, 1, 750, 183, 120], [55, 98, 751, 752, 753, 236, 1, 754, 30], [55, 755], [153, 114, 44, 756, 129, 256, 9], [117, 76, 13, 136, 757, 313, 1, 274, 8, 1, 101, 10, 301, 2, 7], [104, 306, 283, 758, 67, 182, 4, 2, 26, 87, 155, 34, 1, 21, 133]]\n",
            "224\n",
            "2612\n",
            "759\n"
          ],
          "name": "stdout"
        }
      ]
    },
    {
      "cell_type": "code",
      "metadata": {
        "id": "7VKWUx9wqUuG",
        "colab_type": "code",
        "colab": {}
      },
      "source": [
        "def generate_data(corpus, window_size, V):\n",
        "    maxlen = window_size*2\n",
        "    for words in corpus:  #words = sentence\n",
        "        L = len(words)\n",
        "        for index, word in enumerate(words):\n",
        "            contexts = []\n",
        "            labels   = []            \n",
        "            s = index - window_size\n",
        "            e = index + window_size + 1\n",
        "            \n",
        "            contexts.append([words[i] for i in range(s, e) if 0 <= i < L and i != index])\n",
        "            labels.append(word)\n",
        "\n",
        "            #x = contexts\n",
        "            #y = labels\n",
        "            x = sequence.pad_sequences(contexts, maxlen=maxlen)\n",
        "            y = np_utils.to_categorical(labels, V)\n",
        "            yield (x, y)"
      ],
      "execution_count": 0,
      "outputs": []
    },
    {
      "cell_type": "code",
      "metadata": {
        "id": "G7YWQyeArQne",
        "colab_type": "code",
        "colab": {
          "base_uri": "https://localhost:8080/",
          "height": 35
        },
        "outputId": "bef2afe6-45af-4f35-f6bd-80ac69c0c912"
      },
      "source": [
        "'''\n",
        "flag= 2\n",
        "for x in generate_data(corpus,window_size, V):\n",
        "  if flag >0:\n",
        "    print(x)\n",
        "    flag -= 1\n",
        "    print(\"_____\")\n",
        "'''"
      ],
      "execution_count": 5,
      "outputs": [
        {
          "output_type": "execute_result",
          "data": {
            "text/plain": [
              "'\\nflag= 2\\nfor x in generate_data(corpus,window_size, V):\\n  if flag >0:\\n    print(x)\\n    flag -= 1\\n    print(\"_____\")\\n'"
            ]
          },
          "metadata": {
            "tags": []
          },
          "execution_count": 5
        }
      ]
    },
    {
      "cell_type": "code",
      "metadata": {
        "id": "txsU8rymrXKf",
        "colab_type": "code",
        "colab": {
          "base_uri": "https://localhost:8080/",
          "height": 106
        },
        "outputId": "ec88e230-09b2-4946-d82c-ccb3ed934ace"
      },
      "source": [
        "for x in range(-2,3):\n",
        "  print(x)"
      ],
      "execution_count": 6,
      "outputs": [
        {
          "output_type": "stream",
          "text": [
            "-2\n",
            "-1\n",
            "0\n",
            "1\n",
            "2\n"
          ],
          "name": "stdout"
        }
      ]
    },
    {
      "cell_type": "code",
      "metadata": {
        "id": "M3S-mDE8sdOa",
        "colab_type": "code",
        "colab": {
          "base_uri": "https://localhost:8080/",
          "height": 374
        },
        "outputId": "27ef6a45-4087-4e1a-d757-ef773dd7101a"
      },
      "source": [
        "cbow = Sequential()\n",
        "cbow.add(Embedding(input_dim=V, output_dim=dim, input_length=window_size*2))\n",
        "cbow.add(Lambda(lambda x: K.mean(x, axis=1), output_shape=(dim,)))\n",
        "cbow.add(Dense(V, activation='softmax'))\n",
        "cbow.summary()"
      ],
      "execution_count": 7,
      "outputs": [
        {
          "output_type": "stream",
          "text": [
            "WARNING:tensorflow:From /usr/local/lib/python3.6/dist-packages/keras/backend/tensorflow_backend.py:66: The name tf.get_default_graph is deprecated. Please use tf.compat.v1.get_default_graph instead.\n",
            "\n",
            "WARNING:tensorflow:From /usr/local/lib/python3.6/dist-packages/keras/backend/tensorflow_backend.py:541: The name tf.placeholder is deprecated. Please use tf.compat.v1.placeholder instead.\n",
            "\n",
            "WARNING:tensorflow:From /usr/local/lib/python3.6/dist-packages/keras/backend/tensorflow_backend.py:4432: The name tf.random_uniform is deprecated. Please use tf.random.uniform instead.\n",
            "\n",
            "Model: \"sequential_1\"\n",
            "_________________________________________________________________\n",
            "Layer (type)                 Output Shape              Param #   \n",
            "=================================================================\n",
            "embedding_1 (Embedding)      (None, 4, 100)            75900     \n",
            "_________________________________________________________________\n",
            "lambda_1 (Lambda)            (None, 100)               0         \n",
            "_________________________________________________________________\n",
            "dense_1 (Dense)              (None, 759)               76659     \n",
            "=================================================================\n",
            "Total params: 152,559\n",
            "Trainable params: 152,559\n",
            "Non-trainable params: 0\n",
            "_________________________________________________________________\n"
          ],
          "name": "stdout"
        }
      ]
    },
    {
      "cell_type": "code",
      "metadata": {
        "id": "cgLiAyY4tV0S",
        "colab_type": "code",
        "colab": {
          "base_uri": "https://localhost:8080/",
          "height": 88
        },
        "outputId": "e9e0e256-8edb-4994-8d03-1bd25cb02929"
      },
      "source": [
        "\n",
        "\n",
        "cbow.compile(loss='categorical_crossentropy', optimizer='adadelta')\n",
        "\n"
      ],
      "execution_count": 8,
      "outputs": [
        {
          "output_type": "stream",
          "text": [
            "WARNING:tensorflow:From /usr/local/lib/python3.6/dist-packages/keras/optimizers.py:793: The name tf.train.Optimizer is deprecated. Please use tf.compat.v1.train.Optimizer instead.\n",
            "\n",
            "WARNING:tensorflow:From /usr/local/lib/python3.6/dist-packages/keras/backend/tensorflow_backend.py:3576: The name tf.log is deprecated. Please use tf.math.log instead.\n",
            "\n"
          ],
          "name": "stdout"
        }
      ]
    },
    {
      "cell_type": "code",
      "metadata": {
        "id": "uVKIoYx2udmL",
        "colab_type": "code",
        "colab": {
          "base_uri": "https://localhost:8080/",
          "height": 555
        },
        "outputId": "6f47501c-4882-492e-df3a-50b57be16c9e"
      },
      "source": [
        "\n",
        "\n",
        "for ite in range(10):\n",
        "    loss = 0.\n",
        "    for x, y in generate_data(corpus, window_size, V):\n",
        "        loss += cbow.train_on_batch(x, y)\n",
        "\n",
        "    print(ite, loss)\n",
        "\n"
      ],
      "execution_count": 9,
      "outputs": [
        {
          "output_type": "stream",
          "text": [
            "WARNING:tensorflow:From /tensorflow-1.15.2/python3.6/tensorflow_core/python/ops/math_grad.py:1424: where (from tensorflow.python.ops.array_ops) is deprecated and will be removed in a future version.\n",
            "Instructions for updating:\n",
            "Use tf.where in 2.0, which has the same broadcast rule as np.where\n",
            "WARNING:tensorflow:From /usr/local/lib/python3.6/dist-packages/keras/backend/tensorflow_backend.py:1033: The name tf.assign_add is deprecated. Please use tf.compat.v1.assign_add instead.\n",
            "\n",
            "WARNING:tensorflow:From /usr/local/lib/python3.6/dist-packages/keras/backend/tensorflow_backend.py:1020: The name tf.assign is deprecated. Please use tf.compat.v1.assign instead.\n",
            "\n",
            "WARNING:tensorflow:From /usr/local/lib/python3.6/dist-packages/keras/backend/tensorflow_backend.py:3005: The name tf.Session is deprecated. Please use tf.compat.v1.Session instead.\n",
            "\n",
            "WARNING:tensorflow:From /usr/local/lib/python3.6/dist-packages/keras/backend/tensorflow_backend.py:190: The name tf.get_default_session is deprecated. Please use tf.compat.v1.get_default_session instead.\n",
            "\n",
            "WARNING:tensorflow:From /usr/local/lib/python3.6/dist-packages/keras/backend/tensorflow_backend.py:197: The name tf.ConfigProto is deprecated. Please use tf.compat.v1.ConfigProto instead.\n",
            "\n",
            "WARNING:tensorflow:From /usr/local/lib/python3.6/dist-packages/keras/backend/tensorflow_backend.py:207: The name tf.global_variables is deprecated. Please use tf.compat.v1.global_variables instead.\n",
            "\n",
            "WARNING:tensorflow:From /usr/local/lib/python3.6/dist-packages/keras/backend/tensorflow_backend.py:216: The name tf.is_variable_initialized is deprecated. Please use tf.compat.v1.is_variable_initialized instead.\n",
            "\n",
            "WARNING:tensorflow:From /usr/local/lib/python3.6/dist-packages/keras/backend/tensorflow_backend.py:223: The name tf.variables_initializer is deprecated. Please use tf.compat.v1.variables_initializer instead.\n",
            "\n",
            "0 16395.747025966644\n",
            "1 15214.69013261795\n",
            "2 15067.680879354477\n",
            "3 14984.98672246933\n",
            "4 14882.560213446617\n",
            "5 14792.352047085762\n",
            "6 14705.268415004015\n",
            "7 14622.229464113712\n",
            "8 14541.870840251446\n",
            "9 14462.75509737432\n"
          ],
          "name": "stdout"
        }
      ]
    },
    {
      "cell_type": "code",
      "metadata": {
        "id": "2B1n6BDrugq7",
        "colab_type": "code",
        "colab": {
          "base_uri": "https://localhost:8080/",
          "height": 35
        },
        "outputId": "4d8e5adf-cd1e-4897-e9f2-3dc6c3a02eae"
      },
      "source": [
        "f = open('vectors.txt' ,'w')\n",
        "f.write('{} {}\\n'.format(V-1, dim))"
      ],
      "execution_count": 10,
      "outputs": [
        {
          "output_type": "execute_result",
          "data": {
            "text/plain": [
              "8"
            ]
          },
          "metadata": {
            "tags": []
          },
          "execution_count": 10
        }
      ]
    },
    {
      "cell_type": "code",
      "metadata": {
        "id": "0xdyin04utIQ",
        "colab_type": "code",
        "colab": {}
      },
      "source": [
        "vectors = cbow.get_weights()[0]\n",
        "for word, i in tokenizer.word_index.items():\n",
        "    str_vec = ' '.join(map(str, list(vectors[i, :])))\n",
        "    f.write('{} {}\\n'.format(word, str_vec))\n",
        "f.close()\n"
      ],
      "execution_count": 0,
      "outputs": []
    },
    {
      "cell_type": "code",
      "metadata": {
        "id": "4mhb3WKwuthM",
        "colab_type": "code",
        "colab": {
          "base_uri": "https://localhost:8080/",
          "height": 73
        },
        "outputId": "6873826d-b3e1-4ef9-c6d7-c818d06ada6f"
      },
      "source": [
        "w2v = gensim.models.KeyedVectors.load_word2vec_format('./vectors.txt', binary=False)\n"
      ],
      "execution_count": 12,
      "outputs": [
        {
          "output_type": "stream",
          "text": [
            "/usr/local/lib/python3.6/dist-packages/smart_open/smart_open_lib.py:410: UserWarning: This function is deprecated, use smart_open.open instead. See the migration notes for details: https://github.com/RaRe-Technologies/smart_open/blob/master/README.rst#migrating-to-the-new-open-function\n",
            "  'See the migration notes for details: %s' % _MIGRATION_NOTES_URL\n"
          ],
          "name": "stderr"
        }
      ]
    },
    {
      "cell_type": "code",
      "metadata": {
        "id": "YFIOq_mBuwLi",
        "colab_type": "code",
        "colab": {
          "base_uri": "https://localhost:8080/",
          "height": 251
        },
        "outputId": "3b7b98ac-d5ca-43ce-d663-94074948dc76"
      },
      "source": [
        "w2v.most_similar(positive=['the'])"
      ],
      "execution_count": 13,
      "outputs": [
        {
          "output_type": "stream",
          "text": [
            "/usr/local/lib/python3.6/dist-packages/gensim/matutils.py:737: FutureWarning: Conversion of the second argument of issubdtype from `int` to `np.signedinteger` is deprecated. In future, it will be treated as `np.int64 == np.dtype(int).type`.\n",
            "  if np.issubdtype(vec.dtype, np.int):\n"
          ],
          "name": "stderr"
        },
        {
          "output_type": "execute_result",
          "data": {
            "text/plain": [
              "[('this', 0.6630313396453857),\n",
              " ('nothing', 0.6297290325164795),\n",
              " ('out', 0.5834192037582397),\n",
              " ('a', 0.5582808256149292),\n",
              " ('its', 0.5288040637969971),\n",
              " ('“do', 0.5223385095596313),\n",
              " ('ever', 0.521538496017456),\n",
              " ('latitude', 0.5179874897003174),\n",
              " ('things', 0.5157833099365234),\n",
              " ('beautifully', 0.5155222415924072)]"
            ]
          },
          "metadata": {
            "tags": []
          },
          "execution_count": 13
        }
      ]
    },
    {
      "cell_type": "code",
      "metadata": {
        "id": "CDx3PtAduyKJ",
        "colab_type": "code",
        "colab": {
          "base_uri": "https://localhost:8080/",
          "height": 251
        },
        "outputId": "70311752-5ff4-4b18-8018-5fccf5757811"
      },
      "source": [
        "w2v.most_similar(positive=['alice'])"
      ],
      "execution_count": 14,
      "outputs": [
        {
          "output_type": "stream",
          "text": [
            "/usr/local/lib/python3.6/dist-packages/gensim/matutils.py:737: FutureWarning: Conversion of the second argument of issubdtype from `int` to `np.signedinteger` is deprecated. In future, it will be treated as `np.int64 == np.dtype(int).type`.\n",
            "  if np.issubdtype(vec.dtype, np.int):\n"
          ],
          "name": "stderr"
        },
        {
          "output_type": "execute_result",
          "data": {
            "text/plain": [
              "[('she', 0.7184145450592041),\n",
              " ('ever', 0.5955518484115601),\n",
              " ('going', 0.5869276523590088),\n",
              " ('that', 0.5822823643684387),\n",
              " ('thought', 0.5785404443740845),\n",
              " ('you', 0.5774433612823486),\n",
              " ('them', 0.5591905117034912),\n",
              " ('no', 0.5519707202911377),\n",
              " ('suddenly', 0.5451568365097046),\n",
              " ('it', 0.5431429147720337)]"
            ]
          },
          "metadata": {
            "tags": []
          },
          "execution_count": 14
        }
      ]
    },
    {
      "cell_type": "code",
      "metadata": {
        "id": "C6wEAswwu1nu",
        "colab_type": "code",
        "colab": {}
      },
      "source": [
        ""
      ],
      "execution_count": 0,
      "outputs": []
    }
  ]
}